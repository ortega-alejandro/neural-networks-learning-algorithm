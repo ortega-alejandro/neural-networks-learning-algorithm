{
 "cells": [
  {
   "cell_type": "markdown",
   "metadata": {},
   "source": [
    "# Machine Learning and Big Data\n",
    "\n",
    "> ___It's not who has the best algorithm that wins. It's who has the most data.___ $-$ Common Saying in Machine Learning\n",
    "\n",
    "Training a low-bias learning algorithm on a massive dataset is one of the best ways to get a high performance machine learning system. However, learning with large datasets result in computational penalties, increasing in severity as the dimension of the data increases.\n",
    "\n",
    "Suppose a dataset consisted of $m=100000000$ samples, and a classification algorithm was being trained using the gradient descent rule:\n",
    "\n",
    "$$ \\theta_j := \\theta_j - \\alpha \\dfrac{1}{m}\\sum\\limits_{i=1}^m\\left(h_\\theta(x^{(i)}) - y^{(i)}\\right)x_j^{(i)} $$\n",
    "\n",
    "where $\\alpha$ is the learning rate and $h_\\theta$ is the hypothesis function.\n",
    "\n",
    "Then a summation over a hundred million samples must be computed to calculate the derivative term and perform a _single_ step of gradient descent. This summation results in severe computational expenses."
   ]
  },
  {
   "cell_type": "markdown",
   "metadata": {},
   "source": [
    "## Stochastic Gradient Descent (SGD)\n",
    "\n",
    "SGD is a modification to batch gradient descent that has the following cost function for a single sample:\n"
   ]
  },
  {
   "cell_type": "code",
   "execution_count": 3,
   "metadata": {},
   "outputs": [],
   "source": [
    "function [J grad] = costFunction(x, y, lambda)\n",
    "    J = 0;\n",
    "    grad = 0;\n",
    "    \n",
    "end"
   ]
  }
 ],
 "metadata": {
  "kernelspec": {
   "display_name": "Octave",
   "language": "octave",
   "name": "octave"
  },
  "language_info": {
   "file_extension": ".m",
   "help_links": [
    {
     "text": "GNU Octave",
     "url": "https://www.gnu.org/software/octave/support.html"
    },
    {
     "text": "Octave Kernel",
     "url": "https://github.com/Calysto/octave_kernel"
    },
    {
     "text": "MetaKernel Magics",
     "url": "https://github.com/calysto/metakernel/blob/master/metakernel/magics/README.md"
    }
   ],
   "mimetype": "text/x-octave",
   "name": "octave",
   "version": "3.6.4"
  }
 },
 "nbformat": 4,
 "nbformat_minor": 2
}
